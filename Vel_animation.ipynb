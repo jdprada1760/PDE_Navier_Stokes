{
 "metadata": {
  "name": "",
  "signature": "sha256:98a00a12732ed26fdfc1043f859d384ddf5a64f0d787a4eef9c2d93d1d3d03ca"
 },
 "nbformat": 3,
 "nbformat_minor": 0,
 "worksheets": [
  {
   "cells": [
    {
     "cell_type": "code",
     "collapsed": false,
     "input": [
      "%pylab\n",
      "import matplotlib.animation as animation\n",
      "from mpl_toolkits.mplot3d import Axes3D"
     ],
     "language": "python",
     "metadata": {},
     "outputs": [
      {
       "output_type": "stream",
       "stream": "stdout",
       "text": [
        "Using matplotlib backend: TkAgg\n",
        "Populating the interactive namespace from numpy and matplotlib\n"
       ]
      }
     ],
     "prompt_number": 1
    },
    {
     "cell_type": "code",
     "collapsed": false,
     "input": [
      "data = loadtxt(\"LinearConvection.dat\")\n",
      "data = data\n",
      "x_t = data\n",
      "#x_t = np.array([np.arange(len(data)),data])"
     ],
     "language": "python",
     "metadata": {},
     "outputs": [],
     "prompt_number": 3
    },
    {
     "cell_type": "code",
     "collapsed": false,
     "input": [
      "fig, ax = plt.subplots()\n",
      "\n",
      "y = x_t[0]        # x-array\n",
      "x = np.arange(len(x_t[0]))\n",
      "line, = ax.plot(x, y)\n",
      "\n",
      "def animate(i):\n",
      "    i = (2*i)%len(x_t)\n",
      "    line.set_ydata(x_t[i])  # update the data\n",
      "    return line,\n",
      "\n",
      "#Init only required for blitting to give a clean slate.\n",
      "def init():\n",
      "    line.set_ydata(np.ma.array(x, mask=True))\n",
      "    return line,\n",
      "\n",
      "ani = animation.FuncAnimation(fig, animate,  init_func=init,\n",
      "    interval=25)\n",
      "plt.show()\n"
     ],
     "language": "python",
     "metadata": {},
     "outputs": [],
     "prompt_number": 5
    },
    {
     "cell_type": "code",
     "collapsed": false,
     "input": [],
     "language": "python",
     "metadata": {},
     "outputs": [],
     "prompt_number": 56
    },
    {
     "cell_type": "code",
     "collapsed": false,
     "input": [
      "y = np.arange(len(x_t[1])) \n",
      "print x_t[1]"
     ],
     "language": "python",
     "metadata": {},
     "outputs": [
      {
       "output_type": "stream",
       "stream": "stdout",
       "text": [
        "[ 1.      1.      0.0395  0.      0.      0.      0.      0.      0.      0.\n",
        "  0.      0.      0.      0.      0.      0.      0.      0.      0.      0.\n",
        "  0.      0.      0.      0.      0.      0.      0.      0.      0.      0.\n",
        "  0.      0.      0.      0.      0.      0.      0.      0.      0.      0.\n",
        "  0.      0.      0.      0.      0.      0.      0.      0.      0.      0.\n",
        "  0.      0.      0.      0.      0.      0.      0.      0.      0.      0.\n",
        "  0.      0.      0.      0.      0.      0.      0.      0.      0.      0.\n",
        "  0.      0.      0.      0.      0.      0.      0.      0.      0.      1.    ]\n"
       ]
      }
     ],
     "prompt_number": 87
    },
    {
     "cell_type": "code",
     "collapsed": false,
     "input": [
      "plot(y,x_t[1])"
     ],
     "language": "python",
     "metadata": {},
     "outputs": [
      {
       "metadata": {},
       "output_type": "pyout",
       "prompt_number": 85,
       "text": [
        "[<matplotlib.lines.Line2D at 0x68bf810>]"
       ]
      }
     ],
     "prompt_number": 85
    },
    {
     "cell_type": "code",
     "collapsed": false,
     "input": [],
     "language": "python",
     "metadata": {},
     "outputs": []
    }
   ],
   "metadata": {}
  }
 ]
}